{
 "cells": [
  {
   "cell_type": "markdown",
   "metadata": {},
   "source": [
    "**Recurrent Neural Network in Python using TensorFlow**\n",
    "\n",
    "This notebook has as objective to build a non-linear regression model for a time series.\n",
    "\n",
    "**Problem Description**\n",
    "\n",
    "Predictions for a time series is a great challenge for a huge class of problems. Some times these forecasting evolve numerical simulations that require a big computational efforts and the output results may have numerical error associate to the chosen numerical method. The Recurrent Neural Network (RNN) is an alternative to avoid this kind of problem. Due to consider a Long Short-Term Memory (LSTM) a RNN is an ideal tool to the time series problems. In this notebook, we build a model to predict the open Google stock price considering the time evolution of stock prices.\n",
    "\n",
    "**Dataset Description**\n",
    "\n",
    "The dataset was downloaded from Yahoo Finances and contains all historical time evolution of Google stock price. For the train set we consider the start date from 2004/08/20 to 2020/08/19. For the test set we consider the start date from 2020/08/19 until 2021/01/21. The information in the data set are Open price, Minimal Price, Maximal Price and Closed Price.  We have 4135 instances, each instance represents one day from the time series."
   ]
  },
  {
   "cell_type": "markdown",
   "metadata": {},
   "source": [
    "# Importing libraries"
   ]
  },
  {
   "cell_type": "code",
   "execution_count": 1,
   "metadata": {},
   "outputs": [],
   "source": [
    "import numpy as np\n",
    "import matplotlib.pyplot as plt\n",
    "import pandas as pd\n",
    "import tensorflow as tf\n",
    "\n",
    "from tensorflow import keras # Calling keras\n",
    "from tensorflow.keras import layers # to create the layers of neurons\n",
    "from tensorflow.keras.models import Sequential # to create the Neural Network"
   ]
  },
  {
   "cell_type": "markdown",
   "metadata": {},
   "source": [
    "# Importing the Dataset\n",
    "\n",
    "In the data set we have four variables, but our interest is the open price. So to build this model we just consider the Open Price as variable."
   ]
  },
  {
   "cell_type": "markdown",
   "metadata": {},
   "source": [
    "## Training set"
   ]
  },
  {
   "cell_type": "code",
   "execution_count": 2,
   "metadata": {},
   "outputs": [],
   "source": [
    "dataset_train = pd.read_csv('GOOG_train.csv') # reading the training set\n",
    "training_set = dataset_train.iloc[:, 1:2].values # Creating the training variable with the Open Price"
   ]
  },
  {
   "cell_type": "code",
   "execution_count": 3,
   "metadata": {},
   "outputs": [
    {
     "data": {
      "text/plain": [
       "(4010, 1)"
      ]
     },
     "execution_count": 3,
     "metadata": {},
     "output_type": "execute_result"
    }
   ],
   "source": [
    "training_set.shape"
   ]
  },
  {
   "cell_type": "markdown",
   "metadata": {},
   "source": [
    "## Test set"
   ]
  },
  {
   "cell_type": "code",
   "execution_count": 4,
   "metadata": {},
   "outputs": [],
   "source": [
    "dataset_test = pd.read_csv('GOOG_test.csv') # Creating the test set\n",
    "test_set = dataset_test.iloc[:, 1:2].values"
   ]
  },
  {
   "cell_type": "code",
   "execution_count": 5,
   "metadata": {},
   "outputs": [
    {
     "data": {
      "text/plain": [
       "(125, 1)"
      ]
     },
     "execution_count": 5,
     "metadata": {},
     "output_type": "execute_result"
    }
   ],
   "source": [
    "test_set.shape"
   ]
  },
  {
   "cell_type": "markdown",
   "metadata": {},
   "source": [
    "# Data preprocessing"
   ]
  },
  {
   "cell_type": "markdown",
   "metadata": {},
   "source": [
    "## Feature Scaling\n",
    "\n",
    "We need to put the values in the same scale. We have some options to realize the feature scaling, considering methods as Standardization and Normalization. For the RNN is more appropriate to consider the normalization. "
   ]
  },
  {
   "cell_type": "code",
   "execution_count": 6,
   "metadata": {},
   "outputs": [],
   "source": [
    "from sklearn.preprocessing import MinMaxScaler \n",
    "sc = MinMaxScaler(feature_range=(0,1)) # Object to change the scale\n",
    "training_set_scaled = sc.fit_transform(training_set) # Creating a new variable for the scaled values"
   ]
  },
  {
   "cell_type": "markdown",
   "metadata": {},
   "source": [
    "## Creating a data structure with the timestep\n",
    "\n",
    "To build a RNN model, we must to define a time step. As we’re taking care about a time series, we must to create “past interval”, it means that we consider the previous days to make a prediction to the “current moment”. For each step in the RNN the “prediction for the current moment” takes account the “past interval”, this is the Long Short-Term Memory. Here, we choose the past interval as $\\Delta t = 60$. The training set contains 4010 instances, but we training the model for 3950 instances, it means that the first 60 days are considered as memory term."
   ]
  },
  {
   "cell_type": "markdown",
   "metadata": {},
   "source": [
    "### Training variables"
   ]
  },
  {
   "cell_type": "code",
   "execution_count": 7,
   "metadata": {},
   "outputs": [],
   "source": [
    "X_train = [] # Empty List\n",
    "y_train = []\n",
    "dt = 60 # Past interval"
   ]
  },
  {
   "cell_type": "code",
   "execution_count": 8,
   "metadata": {},
   "outputs": [],
   "source": [
    "for i in range(dt, training_set.shape[0]):\n",
    "    X_train.append(training_set_scaled[i-dt:i, 0])# we put into the list the 60 lines that correspond to the timestep\n",
    "    y_train.append(training_set_scaled[i, 0])# Here we fill the list for the dependent variable"
   ]
  },
  {
   "cell_type": "code",
   "execution_count": 9,
   "metadata": {},
   "outputs": [],
   "source": [
    "X_train, y_train = np.array(X_train), np.array(y_train) # Due to use Keras modulus, we need to consider an array"
   ]
  },
  {
   "cell_type": "code",
   "execution_count": 10,
   "metadata": {},
   "outputs": [
    {
     "data": {
      "text/plain": [
       "(3950, 60)"
      ]
     },
     "execution_count": 10,
     "metadata": {},
     "output_type": "execute_result"
    }
   ],
   "source": [
    "X_train.shape"
   ]
  },
  {
   "cell_type": "markdown",
   "metadata": {},
   "source": [
    "The variable X_train contains 3950 instances and 60 columns. The columns represent the past days, we consider it as the independent variable."
   ]
  },
  {
   "cell_type": "code",
   "execution_count": 11,
   "metadata": {},
   "outputs": [
    {
     "data": {
      "text/plain": [
       "(3950,)"
      ]
     },
     "execution_count": 11,
     "metadata": {},
     "output_type": "execute_result"
    }
   ],
   "source": [
    "y_train.shape"
   ]
  },
  {
   "cell_type": "markdown",
   "metadata": {},
   "source": [
    "The variable y_train is the dependent variable, it contains 3950 instances that represent the days. Each value of y_train has as independent variable the 60 previous days."
   ]
  },
  {
   "cell_type": "markdown",
   "metadata": {},
   "source": [
    "## Reshaping the variables\n",
    "\n",
    "The Keras modulus to build the RNN requires ndarrays with 3 dimensions."
   ]
  },
  {
   "cell_type": "code",
   "execution_count": 12,
   "metadata": {},
   "outputs": [],
   "source": [
    "X_train = np.reshape(X_train, (X_train.shape[0], X_train.shape[1], 1)) # Reshaping the training variable."
   ]
  },
  {
   "cell_type": "markdown",
   "metadata": {},
   "source": [
    "# Building the Recurrent Neural Network\n",
    "\n",
    "**Definition from Wikipedia**\n",
    "\n",
    "A recurrent neural network (RNN) is a class of artificial neural networks where connections between nodes form a directed graph along a temporal sequence. This allows it to exhibit temporal dynamic behavior. Derived from feedforward neural networks, RNNs can use their internal state (memory) to process variable length sequences of inputs. This makes them applicable to tasks such as unsegmented, connected handwriting recognition or speech recognition.\n",
    "\n",
    "The term “recurrent neural network” is used indiscriminately to refer to two broad classes of networks with a similar general structure, where one is finite impulse and the other is infinite impulse. Both classes of networks exhibit temporal dynamic behavior. A finite impulse recurrent network is a directed acyclic graph that can be unrolled and replaced with a strictly feedforward neural network, while an infinite impulse recurrent network is a directed cyclic graph that can not be unrolled.\n",
    "\n",
    "**Long Short-Term Memory definition from Wikipedia**\n",
    "\n",
    "Long short-term memory (LSTM) is an artificial recurrent neural network (RNN) architecture used in the field of deep learning. Unlike standard feedforward neural networks, LSTM has feedback connections. It can not only process single data points (such as images), but also entire sequences of data (such as speech or video). For example, LSTM is applicable to tasks such as unsegmented, connected handwriting recognition, speech recognition and anomaly detection in network traffic or IDSs (intrusion detection systems).\n",
    "\n",
    "A common LSTM unit is composed of a cell, an input gate, an output gate and a forget gate. The cell remembers values over arbitrary time intervals and the three gates regulate the flow of information into and out of the cell.\n",
    "\n",
    "LSTM networks are well-suited to classifying, processing and making predictions based on time series data, since there can be lags of unknown duration between important events in a time series. LSTMs were developed to deal with the vanishing gradient problem that can be encountered when training traditional RNNs. Relative insensitivity to gap length is an advantage of LSTM over RNNs, hidden Markov models and other sequence learning methods in numerous applications.\n",
    "\n",
    "**Some references**\n",
    "\n",
    "- Sepp Hochreiter & Jurgen Schmidhuber, 1997, [Long Short-Term Memory](http://www.bioinf.jku.at/publications/older/2604.pdf)\n",
    "\n",
    "- Andrej Karpathy, 2015, [Visualizing and Understanding Recurrent Networks](https://arxiv.org/pdf/1506.02078.pdf)\n",
    "\n",
    "- Andrej Karpathy, 2015, [The Unreasonable Effectiveness of Recurrent Neural Networks](http://karpathy.github.io/2015/05/21/rnn-effectiveness/)\n",
    "\n",
    "- Christopher Olah, 2015, [Understanding LSTM Networks](http://colah.github.io/posts/2015-08-Understanding-LSTMs/).\n",
    "\n",
    "**Why consider the RNN instead of an ANN?**\n",
    "\n",
    "Recurrent neural networks (RNN) are more complex. They save the output of processing nodes and feed the result back into the model (they did not pass the information in one direction only). This is how the model is said to learn to predict the outcome of a layer. Each node in the RNN model acts as a memory cell, continuing the computation and implementation of operations. If the network’s prediction is incorrect, then the system self-learns and continues working towards the correct prediction during backpropagation. [See](https://www.geeksforgeeks.org/difference-between-ann-cnn-and-rnn/)."
   ]
  },
  {
   "cell_type": "markdown",
   "metadata": {},
   "source": [
    "## Building the model\n",
    "\n",
    "To build a RNN model we consider the Keras modulus. The object Sequential creates the sequence of actions in the neural network. From the Layers object we call the class LSTM, this class is responsible to the memory. The parameters considered in the LSTM are units (the number of neurons), return_sequence (to make a sequence and prepare the RNN to the next step of LSTM), input_shape (the number of past observation and the output). We consider Dropout to avoid the over-fit. The layer Dense is the output of our model, it means, the value predicted. For this problem, we consider four LSTM process to each batch. "
   ]
  },
  {
   "cell_type": "code",
   "execution_count": 13,
   "metadata": {},
   "outputs": [],
   "source": [
    "predictor = Sequential([\n",
    "    layers.LSTM(units = 50, return_sequences = True, input_shape = (X_train.shape[1], 1)),\n",
    "    layers.Dropout(0.2),\n",
    "    layers.LSTM(units = 50, return_sequences = True),\n",
    "    layers.Dropout(0.2),\n",
    "    layers.LSTM(units = 50, return_sequences = True),\n",
    "    layers.Dropout(0.2),\n",
    "    layers.LSTM(units = 50), # we do not need return_sequences, this the last step of LSTM, the next step will be the output\n",
    "    layers.Dropout(0.2),\n",
    "    layers.Dense(1)\n",
    "])"
   ]
  },
  {
   "cell_type": "markdown",
   "metadata": {},
   "source": [
    "## Compiling the model\n",
    "\n",
    "As we work with a regression problem, the loss function is Mean Squared Error, the metric to verify the precision of predicted values is Root Mean Squared Error. As optimizer we choose the Adam optimizer."
   ]
  },
  {
   "cell_type": "code",
   "execution_count": 14,
   "metadata": {},
   "outputs": [],
   "source": [
    "predictor.compile(optimizer='adam', loss='mean_squared_error', metrics=[tf.keras.metrics.RootMeanSquaredError()])"
   ]
  },
  {
   "cell_type": "markdown",
   "metadata": {},
   "source": [
    "## Model summary"
   ]
  },
  {
   "cell_type": "code",
   "execution_count": 15,
   "metadata": {},
   "outputs": [
    {
     "name": "stdout",
     "output_type": "stream",
     "text": [
      "Model: \"sequential\"\n",
      "_________________________________________________________________\n",
      "Layer (type)                 Output Shape              Param #   \n",
      "=================================================================\n",
      "lstm (LSTM)                  (None, 60, 50)            10400     \n",
      "_________________________________________________________________\n",
      "dropout (Dropout)            (None, 60, 50)            0         \n",
      "_________________________________________________________________\n",
      "lstm_1 (LSTM)                (None, 60, 50)            20200     \n",
      "_________________________________________________________________\n",
      "dropout_1 (Dropout)          (None, 60, 50)            0         \n",
      "_________________________________________________________________\n",
      "lstm_2 (LSTM)                (None, 60, 50)            20200     \n",
      "_________________________________________________________________\n",
      "dropout_2 (Dropout)          (None, 60, 50)            0         \n",
      "_________________________________________________________________\n",
      "lstm_3 (LSTM)                (None, 50)                20200     \n",
      "_________________________________________________________________\n",
      "dropout_3 (Dropout)          (None, 50)                0         \n",
      "_________________________________________________________________\n",
      "dense (Dense)                (None, 1)                 51        \n",
      "=================================================================\n",
      "Total params: 71,051\n",
      "Trainable params: 71,051\n",
      "Non-trainable params: 0\n",
      "_________________________________________________________________\n"
     ]
    }
   ],
   "source": [
    "predictor.summary()"
   ]
  },
  {
   "cell_type": "markdown",
   "metadata": {},
   "source": [
    "## Training the model"
   ]
  },
  {
   "cell_type": "code",
   "execution_count": 16,
   "metadata": {},
   "outputs": [
    {
     "name": "stdout",
     "output_type": "stream",
     "text": [
      "Epoch 1/25\n",
      "124/124 [==============================] - 13s 71ms/step - loss: 0.0216 - root_mean_squared_error: 0.1346\n",
      "Epoch 2/25\n",
      "124/124 [==============================] - 9s 70ms/step - loss: 0.0023 - root_mean_squared_error: 0.0474\n",
      "Epoch 3/25\n",
      "124/124 [==============================] - 9s 73ms/step - loss: 0.0024 - root_mean_squared_error: 0.0485\n",
      "Epoch 4/25\n",
      "124/124 [==============================] - 12s 94ms/step - loss: 0.0017 - root_mean_squared_error: 0.0415\n",
      "Epoch 5/25\n",
      "124/124 [==============================] - 10s 78ms/step - loss: 0.0015 - root_mean_squared_error: 0.0387\n",
      "Epoch 6/25\n",
      "124/124 [==============================] - 10s 83ms/step - loss: 0.0014 - root_mean_squared_error: 0.0378\n",
      "Epoch 7/25\n",
      "124/124 [==============================] - 10s 83ms/step - loss: 0.0016 - root_mean_squared_error: 0.0395\n",
      "Epoch 8/25\n",
      "124/124 [==============================] - 10s 81ms/step - loss: 0.0014 - root_mean_squared_error: 0.0373\n",
      "Epoch 9/25\n",
      "124/124 [==============================] - 9s 76ms/step - loss: 0.0014 - root_mean_squared_error: 0.0376\n",
      "Epoch 10/25\n",
      "124/124 [==============================] - 9s 76ms/step - loss: 0.0011 - root_mean_squared_error: 0.0324\n",
      "Epoch 11/25\n",
      "124/124 [==============================] - 9s 75ms/step - loss: 0.0012 - root_mean_squared_error: 0.0348\n",
      "Epoch 12/25\n",
      "124/124 [==============================] - 9s 76ms/step - loss: 0.0010 - root_mean_squared_error: 0.0317\n",
      "Epoch 13/25\n",
      "124/124 [==============================] - 11s 87ms/step - loss: 0.0012 - root_mean_squared_error: 0.0341\n",
      "Epoch 14/25\n",
      "124/124 [==============================] - 10s 81ms/step - loss: 0.0010 - root_mean_squared_error: 0.0320\n",
      "Epoch 15/25\n",
      "124/124 [==============================] - 10s 81ms/step - loss: 0.0012 - root_mean_squared_error: 0.0342\n",
      "Epoch 16/25\n",
      "124/124 [==============================] - 10s 82ms/step - loss: 9.3674e-04 - root_mean_squared_error: 0.0306\n",
      "Epoch 17/25\n",
      "124/124 [==============================] - 10s 82ms/step - loss: 0.0012 - root_mean_squared_error: 0.0339\n",
      "Epoch 18/25\n",
      "124/124 [==============================] - 10s 82ms/step - loss: 9.7364e-04 - root_mean_squared_error: 0.0312\n",
      "Epoch 19/25\n",
      "124/124 [==============================] - 10s 83ms/step - loss: 0.0010 - root_mean_squared_error: 0.0317\n",
      "Epoch 20/25\n",
      "124/124 [==============================] - 11s 88ms/step - loss: 9.0073e-04 - root_mean_squared_error: 0.0300\n",
      "Epoch 21/25\n",
      "124/124 [==============================] - 11s 89ms/step - loss: 8.3878e-04 - root_mean_squared_error: 0.0289\n",
      "Epoch 22/25\n",
      "124/124 [==============================] - 10s 84ms/step - loss: 8.6918e-04 - root_mean_squared_error: 0.0295\n",
      "Epoch 23/25\n",
      "124/124 [==============================] - 11s 88ms/step - loss: 8.0377e-04 - root_mean_squared_error: 0.0283\n",
      "Epoch 24/25\n",
      "124/124 [==============================] - 10s 85ms/step - loss: 8.3512e-04 - root_mean_squared_error: 0.0289\n",
      "Epoch 25/25\n",
      "124/124 [==============================] - 12s 95ms/step - loss: 9.1568e-04 - root_mean_squared_error: 0.0302\n"
     ]
    },
    {
     "data": {
      "text/plain": [
       "<tensorflow.python.keras.callbacks.History at 0x7f0a1ccc30f0>"
      ]
     },
     "execution_count": 16,
     "metadata": {},
     "output_type": "execute_result"
    }
   ],
   "source": [
    "predictor.fit(X_train, y_train, epochs=25, batch_size=32)"
   ]
  },
  {
   "cell_type": "markdown",
   "metadata": {},
   "source": [
    "## Predicting new values"
   ]
  },
  {
   "cell_type": "markdown",
   "metadata": {},
   "source": [
    "### Preparing the test set\n",
    "\n",
    "To obtain a good test set, we must to make some considerations. We utilize the concatenate function to merge the training and the test set, we make it to obtain the last 60 days from the training set, because these days will be considered to predict the first day for the test set."
   ]
  },
  {
   "cell_type": "code",
   "execution_count": 17,
   "metadata": {},
   "outputs": [],
   "source": [
    "dataset_total = pd.concat((dataset_train['Open'], dataset_test['Open']), axis = 0) # to concatenate both sets\n",
    "inputs = dataset_total[len(dataset_train) - 60:].values # Here we fill the variable input starting from the last 60 days of the training set\n",
    "inputs = inputs.reshape(-1,1) # Reshaping\n",
    "inputs = sc.transform(inputs) # To normalize"
   ]
  },
  {
   "cell_type": "code",
   "execution_count": 18,
   "metadata": {},
   "outputs": [],
   "source": [
    "X_test = [] # Empty list\n",
    "y_test = []\n",
    "for i in range(dt, inputs.shape[0]):\n",
    "    X_test.append(inputs[i-dt:i, 0]) # To fill the test variable with the 60 past days\n",
    "    y_test.append(inputs[i, 0]) # to fill the dependent variable"
   ]
  },
  {
   "cell_type": "code",
   "execution_count": 19,
   "metadata": {},
   "outputs": [],
   "source": [
    "X_test, y_test = np.array(X_test), np.array(y_test)"
   ]
  },
  {
   "cell_type": "code",
   "execution_count": 20,
   "metadata": {},
   "outputs": [],
   "source": [
    "X_test = np.reshape(X_test, (X_test.shape[0], X_test.shape[1], 1))"
   ]
  },
  {
   "cell_type": "code",
   "execution_count": 21,
   "metadata": {},
   "outputs": [
    {
     "data": {
      "text/plain": [
       "(125, 60, 1)"
      ]
     },
     "execution_count": 21,
     "metadata": {},
     "output_type": "execute_result"
    }
   ],
   "source": [
    "X_test.shape"
   ]
  },
  {
   "cell_type": "code",
   "execution_count": 22,
   "metadata": {},
   "outputs": [],
   "source": [
    "predicted_stock_price = predictor.predict(X_test)"
   ]
  },
  {
   "cell_type": "markdown",
   "metadata": {},
   "source": [
    "### Verifying the RMSE"
   ]
  },
  {
   "cell_type": "code",
   "execution_count": 23,
   "metadata": {},
   "outputs": [
    {
     "data": {
      "text/plain": [
       "0.06763936"
      ]
     },
     "execution_count": 23,
     "metadata": {},
     "output_type": "execute_result"
    }
   ],
   "source": [
    "rmse = tf.keras.metrics.RootMeanSquaredError()\n",
    "rmse.update_state(y_test, predicted_stock_price)\n",
    "rmse = rmse.result().numpy()\n",
    "rmse"
   ]
  },
  {
   "cell_type": "markdown",
   "metadata": {},
   "source": [
    "The prediction show a good RMSE, close to zero."
   ]
  },
  {
   "cell_type": "code",
   "execution_count": 24,
   "metadata": {},
   "outputs": [],
   "source": [
    "# To better visualize the results we must come back to the original scale\n",
    "\n",
    "predicted_stock_price = sc.inverse_transform(predicted_stock_price)"
   ]
  },
  {
   "cell_type": "markdown",
   "metadata": {},
   "source": [
    "### Visualizing the results"
   ]
  },
  {
   "cell_type": "code",
   "execution_count": 25,
   "metadata": {},
   "outputs": [
    {
     "data": {
      "image/png": "[encoded data removed]",
      "text/plain": [
       "<Figure size 432x288 with 1 Axes>"
      ]
     },
     "metadata": {},
     "output_type": "display_data"
    }
   ],
   "source": [
    "plt.plot(test_set, color = 'red', label = 'Real Google Stock Price')\n",
    "plt.plot(predicted_stock_price, color = 'blue', label = 'Predicted Google Stock Price')\n",
    "plt.title('Google Stock Price Prediction')\n",
    "plt.xlabel('Time')\n",
    "plt.ylabel('Google Stock Price')\n",
    "plt.legend()\n",
    "plt.show()"
   ]
  },
  {
   "cell_type": "markdown",
   "metadata": {},
   "source": [
    "# Conclusion\n",
    "\n",
    "The RNN model offers to us o good non-linear regressor  for a time series. In this notebook We've predicted the Google stock price, considering a range of 16 years to the training set and a range of 6 months to training set. As can be see, the RMSE value is very satisfactory being close to zero. Other important aspect is the time evolution of the predicted values, that presents the same dynamic evolution of the real values of the stock price for the six past months. The RNN is a powerful tool to time series with many applications."
   ]
  }
 ],
 "metadata": {
  "kernelspec": {
   "display_name": "Python 3",
   "language": "python",
   "name": "python3"
  },
  "language_info": {
   "codemirror_mode": {
    "name": "ipython",
    "version": 3
   },
   "file_extension": ".py",
   "mimetype": "text/x-python",
   "name": "python",
   "nbconvert_exporter": "python",
   "pygments_lexer": "ipython3",
   "version": "3.6.9"
  }
 },
 "nbformat": 4,
 "nbformat_minor": 2
}
