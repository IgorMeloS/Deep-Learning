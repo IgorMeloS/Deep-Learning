{
 "cells": [
  {
   "cell_type": "markdown",
   "metadata": {},
   "source": [
    "**Sentiment analysis using ktrain library - Standard Method**\n",
    "\n",
    "This notebook intends to build a classification model to predict sentiment analysis using ktrain library.\n",
    "\n",
    "**Problem Description**\n",
    "\n",
    "Sentiment analysis is a technique to predict the sentiment according with text classification. In this problem, we consider movies reviews from IMDB website. The reviews are classified as negative and positive.\n",
    "\n",
    "**Dataset Description**\n",
    "\n",
    "The dataset is loaded from  https://ai.stanford.edu/~amaas/data/sentiment/aclImdb_v1.tar.gz. \n",
    "\n",
    "**-Overview**\n",
    "\n",
    "This dataset contains movie reviews along with their associated binary\n",
    "sentiment polarity labels. It is intended to serve as a benchmark for\n",
    "sentiment classification. This document outlines how the dataset was\n",
    "gathered, and how to use the files provided. \n",
    "\n",
    "**-Dataset** \n",
    "\n",
    "The core dataset contains 50,000 reviews split evenly into 25k train\n",
    "and 25k test sets. The overall distribution of labels is balanced (25k\n",
    "pos and 25k neg).\n",
    "\n",
    "**Ktrain Library**\n",
    "\n",
    "Ktrain Library proposes many Neural Network models. Some problem applications which are covered in this library are image classification, text classification, classification model, etc. This library is an easy way to apply these models without many line codes. For more details [see](https://pypi.org/project/ktrain/)."
   ]
  },
  {
   "cell_type": "markdown",
   "metadata": {},
   "source": [
    "# Importing Libraries"
   ]
  },
  {
   "cell_type": "code",
   "execution_count": 1,
   "metadata": {},
   "outputs": [],
   "source": [
    "import os.path\n",
    "import numpy as np\n",
    "import tensorflow as tf\n",
    "import ktrain\n",
    "from ktrain import text # objecto to make text classification"
   ]
  },
  {
   "cell_type": "markdown",
   "metadata": {},
   "source": [
    "# Data preprocessing"
   ]
  },
  {
   "cell_type": "markdown",
   "metadata": {},
   "source": [
    "## Loading the IMDB dataset review\n",
    "\n",
    "The first step to build the model, is to load the dataset from https://ai.stanford.edu/~amaas/data/sentiment/aclImdb_v1.tar.gz"
   ]
  },
  {
   "cell_type": "code",
   "execution_count": 2,
   "metadata": {},
   "outputs": [],
   "source": [
    "dataset = tf.keras.utils.get_file(fname=\"aclImdb_v1.tar.gz\",\n",
    "                                  origin=\"http://ai.stanford.edu/~amaas/data/sentiment/aclImdb_v1.tar.gz\",\n",
    "                                  extract=True) # To download and extract the files\n",
    "IMDB_DATADIR = os.path.join(os.path.dirname(dataset), 'aclImdb') # to indicate the directory"
   ]
  },
  {
   "cell_type": "markdown",
   "metadata": {},
   "source": [
    "## Creating the training and test variables\n",
    "\n",
    "When we create the training and test variables with the object text, we don’t need to take care about the text cleaning (tokenization, stemmer and others actions), this is made by this object with the aid of the preproc object (this is a transformer object). The argument max_features is the number of input words, maxlen is the number of words which will be considered to train and test the model. The parameter preprocess_mode choose which method we want to use, for example BERT or NBSVC. Classes indicates the classes in the problem."
   ]
  },
  {
   "cell_type": "code",
   "execution_count": 3,
   "metadata": {},
   "outputs": [
    {
     "name": "stdout",
     "output_type": "stream",
     "text": [
      "detected encoding: utf-8\n",
      "language: en\n",
      "Word Counts: 88582\n",
      "Nrows: 25000\n",
      "25000 train sequences\n",
      "train sequence lengths:\n",
      "\tmean : 237\n",
      "\t95percentile : 608\n",
      "\t99percentile : 923\n",
      "Adding 3-gram features\n",
      "max_features changed to 5151281 with addition of ngrams\n",
      "Average train sequence length with ngrams: 709\n",
      "train (w/ngrams) sequence lengths:\n",
      "\tmean : 709\n",
      "\t95percentile : 1821\n",
      "\t99percentile : 2766\n",
      "x_train shape: (25000,2000)\n",
      "y_train shape: (25000, 2)\n",
      "Is Multi-Label? False\n",
      "25000 test sequences\n",
      "test sequence lengths:\n",
      "\tmean : 230\n",
      "\t95percentile : 584\n",
      "\t99percentile : 900\n",
      "Average test sequence length with ngrams: 523\n",
      "test (w/ngrams) sequence lengths:\n",
      "\tmean : 524\n",
      "\t95percentile : 1295\n",
      "\t99percentile : 1971\n",
      "x_test shape: (25000,2000)\n",
      "y_test shape: (25000, 2)\n"
     ]
    }
   ],
   "source": [
    "(x_train, y_train), (x_test, y_test), preproc= text.texts_from_folder(IMDB_DATADIR, \n",
    "                                           max_features=80000, maxlen=2000, \n",
    "                                           ngram_range=3, \n",
    "                                           preprocess_mode='standard',\n",
    "                                           classes=['pos', 'neg'])"
   ]
  },
  {
   "cell_type": "markdown",
   "metadata": {},
   "source": [
    "# Building the model\n",
    "\n",
    "The Ktrain library uses the TensorFlow. Here, we do not need to declare any function from the TensorFlow,  the library makes this for us."
   ]
  },
  {
   "cell_type": "markdown",
   "metadata": {},
   "source": [
    "## Inititialzing the model\n",
    "\n",
    "To initiate the model, we consider the attribute text_classifier, NVSVM is the method to classifier. This method is composed by Naive Bayes and Support Vector Machine. This method is well know from Keras library."
   ]
  },
  {
   "cell_type": "code",
   "execution_count": 4,
   "metadata": {},
   "outputs": [
    {
     "name": "stdout",
     "output_type": "stream",
     "text": [
      "Is Multi-Label? False\n",
      "compiling word ID features...\n",
      "maxlen is 2000\n",
      "building document-term matrix... this may take a few moments...\n",
      "rows: 1-10000\n",
      "rows: 10001-20000\n",
      "rows: 20001-25000\n",
      "computing log-count ratios...\n",
      "done.\n"
     ]
    }
   ],
   "source": [
    "# load an NBSVM model\n",
    "model = text.text_classifier('nbsvm', (x_train, y_train), preproc=preproc)"
   ]
  },
  {
   "cell_type": "markdown",
   "metadata": {},
   "source": [
    "## Training the model\n",
    "\n",
    "To train the model there are some steps to follow. First we create the object learner, after we consider some attributes as lr_find to find the learn rate, lr_plot to verify the evolution of the learn rate, finally we fit the model with the attribute fit."
   ]
  },
  {
   "cell_type": "code",
   "execution_count": 5,
   "metadata": {},
   "outputs": [],
   "source": [
    "learner = ktrain.get_learner(model, train_data=(x_train, y_train), val_data=(x_test, y_test)) # object to learn"
   ]
  },
  {
   "cell_type": "code",
   "execution_count": 6,
   "metadata": {},
   "outputs": [
    {
     "name": "stdout",
     "output_type": "stream",
     "text": [
      "simulating training for different learning rates... this may take a few moments...\n",
      "Epoch 1/1024\n",
      "782/782 [==============================] - 36s 45ms/step - loss: 0.6885 - accuracy: 0.5531\n",
      "Epoch 2/1024\n",
      "782/782 [==============================] - 33s 42ms/step - loss: 0.3309 - accuracy: 0.9513\n",
      "Epoch 3/1024\n",
      "782/782 [==============================] - 0s 105us/step - loss: 4.2029 - accuracy: 0.9165\n",
      "\n",
      "\n",
      "done.\n",
      "Please invoke the Learner.lr_plot() method to visually inspect the loss plot to help identify the maximal learning rate associated with falling loss.\n"
     ]
    }
   ],
   "source": [
    "learner.lr_find() # Finding the best learning rate"
   ]
  },
  {
   "cell_type": "code",
   "execution_count": 7,
   "metadata": {},
   "outputs": [
    {
     "data": {
      "image/png": "[encoded data removed]",
      "text/plain": [
       "<Figure size 432x288 with 1 Axes>"
      ]
     },
     "metadata": {},
     "output_type": "display_data"
    }
   ],
   "source": [
    "learner.lr_plot() # Visualizing the learn rate evolution by loss function"
   ]
  },
  {
   "cell_type": "markdown",
   "metadata": {},
   "source": [
    "As seen from the graphic, the learning rate with the minimal loss is around $0.001$.\n",
    "\n",
    "To fit the model the library considers the SGDR learning rate schedule."
   ]
  },
  {
   "cell_type": "code",
   "execution_count": 8,
   "metadata": {},
   "outputs": [
    {
     "name": "stdout",
     "output_type": "stream",
     "text": [
      "Epoch 1/7\n",
      "782/782 [==============================] - 34s 43ms/step - loss: 0.2092 - accuracy: 0.9471 - val_loss: 0.2474 - val_accuracy: 0.9191\n",
      "Epoch 2/7\n",
      "782/782 [==============================] - 32s 41ms/step - loss: 0.0455 - accuracy: 0.9937 - val_loss: 0.2243 - val_accuracy: 0.9232\n",
      "Epoch 3/7\n",
      "782/782 [==============================] - 33s 42ms/step - loss: 0.0082 - accuracy: 0.9998 - val_loss: 0.2228 - val_accuracy: 0.9234\n",
      "Epoch 4/7\n",
      "782/782 [==============================] - 33s 42ms/step - loss: 0.0069 - accuracy: 0.9999 - val_loss: 0.2164 - val_accuracy: 0.9226\n",
      "Epoch 5/7\n",
      "782/782 [==============================] - 33s 42ms/step - loss: 0.0029 - accuracy: 1.0000 - val_loss: 0.2144 - val_accuracy: 0.9229\n",
      "Epoch 6/7\n",
      "782/782 [==============================] - 31s 40ms/step - loss: 0.0020 - accuracy: 1.0000 - val_loss: 0.2136 - val_accuracy: 0.9230\n",
      "Epoch 7/7\n",
      "782/782 [==============================] - 31s 39ms/step - loss: 0.0017 - accuracy: 1.0000 - val_loss: 0.2135 - val_accuracy: 0.9230\n"
     ]
    },
    {
     "data": {
      "text/plain": [
       "<tensorflow.python.keras.callbacks.History at 0x7f0ac24d46d8>"
      ]
     },
     "execution_count": 8,
     "metadata": {},
     "output_type": "execute_result"
    }
   ],
   "source": [
    "learner.fit(0.001, 3, cycle_len=1, cycle_mult=2) # Fitting the model"
   ]
  },
  {
   "cell_type": "markdown",
   "metadata": {},
   "source": [
    "The final validation accuracy is $92.30\\%$."
   ]
  },
  {
   "cell_type": "markdown",
   "metadata": {},
   "source": [
    "## Making predictions\n",
    "\n",
    "To make predictions we must to create the object predictor with ktrain.get_predictor. The input parameters are learn.model and preproc, the last parameters is very important, it makes the text preprocessing."
   ]
  },
  {
   "cell_type": "code",
   "execution_count": 9,
   "metadata": {},
   "outputs": [],
   "source": [
    "predictor = ktrain.get_predictor(learner.model, preproc) # creating the object"
   ]
  },
  {
   "cell_type": "code",
   "execution_count": 10,
   "metadata": {},
   "outputs": [],
   "source": [
    "data = [ 'This movie was horrible! The plot was boring. Acting was okay, though.',\n",
    "         'The film really sucked. I want my money back.',\n",
    "        'What a beautiful romantic comedy. 10/10 would see again!'] # List with some test reviews."
   ]
  },
  {
   "cell_type": "code",
   "execution_count": 11,
   "metadata": {},
   "outputs": [
    {
     "data": {
      "text/plain": [
       "['neg', 'pos']"
      ]
     },
     "execution_count": 11,
     "metadata": {},
     "output_type": "execute_result"
    }
   ],
   "source": [
    "predictor.get_classes() # To verify the classes"
   ]
  },
  {
   "cell_type": "code",
   "execution_count": 12,
   "metadata": {},
   "outputs": [
    {
     "data": {
      "text/plain": [
       "['neg', 'neg', 'pos']"
      ]
     },
     "execution_count": 12,
     "metadata": {},
     "output_type": "execute_result"
    }
   ],
   "source": [
    "predictor.predict(data)"
   ]
  },
  {
   "cell_type": "markdown",
   "metadata": {},
   "source": [
    "The predictions can be considered to be correct.\n",
    "\n",
    "If you want to see the prabability, the parameter return_proba=True allow us to obtain it."
   ]
  },
  {
   "cell_type": "code",
   "execution_count": 13,
   "metadata": {},
   "outputs": [
    {
     "data": {
      "text/plain": [
       "array([[0.8964736 , 0.10352644],\n",
       "       [0.8151427 , 0.18485735],\n",
       "       [0.23758188, 0.76241815]], dtype=float32)"
      ]
     },
     "execution_count": 13,
     "metadata": {},
     "output_type": "execute_result"
    }
   ],
   "source": [
    "predictor.predict(data, return_proba=True)"
   ]
  },
  {
   "cell_type": "markdown",
   "metadata": {},
   "source": [
    "## Saving the model\n",
    "\n",
    "The model can be saved to the disk. In case of necessity, the model can be reloaded. This is very practical to make applications."
   ]
  },
  {
   "cell_type": "code",
   "execution_count": 14,
   "metadata": {},
   "outputs": [],
   "source": [
    "predictor.save('/tmp/my_moviereview_predictor') # saving the model"
   ]
  },
  {
   "cell_type": "code",
   "execution_count": 15,
   "metadata": {},
   "outputs": [],
   "source": [
    "predictor_save = ktrain.load_predictor('/tmp/my_moviereview_predictor') # creating the object to load the saved model"
   ]
  },
  {
   "cell_type": "code",
   "execution_count": 16,
   "metadata": {},
   "outputs": [
    {
     "data": {
      "text/plain": [
       "['pos']"
      ]
     },
     "execution_count": 16,
     "metadata": {},
     "output_type": "execute_result"
    }
   ],
   "source": [
    "predictor_save.predict(['Groundhog Day is my favorite movie of all time!']) # Making a prediction with the loaded model."
   ]
  },
  {
   "cell_type": "markdown",
   "metadata": {},
   "source": [
    "### Others models\n",
    "\n",
    "If you want to try others models, the library offers a list with all available methods."
   ]
  },
  {
   "cell_type": "code",
   "execution_count": 17,
   "metadata": {},
   "outputs": [
    {
     "name": "stdout",
     "output_type": "stream",
     "text": [
      "fasttext: a fastText-like model [http://arxiv.org/pdf/1607.01759.pdf]\n",
      "logreg: logistic regression using a trainable Embedding layer\n",
      "nbsvm: NBSVM model [http://www.aclweb.org/anthology/P12-2018]\n",
      "bigru: Bidirectional GRU with pretrained fasttext word vectors [https://fasttext.cc/docs/en/crawl-vectors.html]\n",
      "standard_gru: simple 2-layer GRU with randomly initialized embeddings\n",
      "bert: Bidirectional Encoder Representations from Transformers (BERT) from keras_bert [https://arxiv.org/abs/1810.04805]\n",
      "distilbert: distilled, smaller, and faster BERT from Hugging Face transformers [https://arxiv.org/abs/1910.01108]\n"
     ]
    }
   ],
   "source": [
    "text.print_text_classifiers()"
   ]
  },
  {
   "cell_type": "markdown",
   "metadata": {},
   "source": [
    "# Conclusion\n",
    "\n",
    "We presented a simple example to demonstrate how to apply some functions of ktrain library to make text classification. The results from the sentiment analysis are satisfactory, with a validation accuracy of $92.30\\%$ using just $7$ epochs. The library offers facility to build the models with some lines and good score results. Keep in mind, is always recommended to know the libraries of base as TensorFlow and Keras, because this library is built with they."
   ]
  }
 ],
 "metadata": {
  "kernelspec": {
   "display_name": "Python 3",
   "language": "python",
   "name": "python3"
  },
  "language_info": {
   "codemirror_mode": {
    "name": "ipython",
    "version": 3
   },
   "file_extension": ".py",
   "mimetype": "text/x-python",
   "name": "python",
   "nbconvert_exporter": "python",
   "pygments_lexer": "ipython3",
   "version": "3.6.9"
  }
 },
 "nbformat": 4,
 "nbformat_minor": 2
}
