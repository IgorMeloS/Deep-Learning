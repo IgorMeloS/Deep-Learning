{
 "cells": [
  {
   "cell_type": "markdown",
   "metadata": {
    "id": "ynPRbJviL-39"
   },
   "source": [
    "**Sentiment analysis using ktrain library - Standard Method**\n",
    "\n",
    "This notebook intends to build a classification model to predict sentiment analysis using ktrain library.\n",
    "\n",
    "**Problem Description**\n",
    "\n",
    "Sentiment analysis is a technique to predict the sentiment according with text classification. In this problem, we consider movies reviews from IMDB website. The reviews are classified as negative and positive.\n",
    "\n",
    "**Dataset Description**\n",
    "\n",
    "The dataset is loaded from https://ai.stanford.edu/~amaas/data/sentiment/aclImdb_v1.tar.gz.\n",
    "\n",
    "**-Overview**\n",
    "\n",
    "This dataset contains movie reviews along with their associated binary sentiment polarity labels. It is intended to serve as a benchmark for sentiment classification. This document outlines how the dataset was gathered, and how to use the files provided.\n",
    "\n",
    "**-Dataset**\n",
    "\n",
    "The core dataset contains 50,000 reviews split evenly into 25k train and 25k test sets. The overall distribution of labels is balanced (25k pos and 25k neg).\n",
    "\n",
    "**Ktrain Library**\n",
    "\n",
    "Ktrain Library proposes many Neural Network models. Some problem applications which are covered in this library are image classification, text classification, classification model, etc. This library is an easy way to apply these models without many line codes. For more details [see](https://pypi.org/project/ktrain/).\n",
    "\n",
    "\n"
   ]
  },
  {
   "cell_type": "markdown",
   "metadata": {
    "id": "f2WW-bqvjTzc"
   },
   "source": [
    "# Importing libraries"
   ]
  },
  {
   "cell_type": "code",
   "execution_count": null,
   "metadata": {
    "colab": {
     "base_uri": "https://localhost:8080/"
    },
    "id": "ynShOu8nNtFt",
    "outputId": "e4f2e584-dd17-45de-cdf2-20e39858ba52",
    "scrolled": true
   },
   "outputs": [],
   "source": [
    "import os.path\n",
    "import numpy as np\n",
    "import tensorflow as tf\n",
    "import ktrain\n",
    "from ktrain import text # object to make text classification"
   ]
  },
  {
   "cell_type": "markdown",
   "metadata": {
    "id": "JEjlM2EazOf0"
   },
   "source": [
    "# Data Preprocessing"
   ]
  },
  {
   "cell_type": "markdown",
   "metadata": {
    "id": "ePywR8A4zaxT"
   },
   "source": [
    "## Loading the IMDB dataset review\n",
    "\n",
    "The first step to build the model, is to load the dataset from https://ai.stanford.edu/~amaas/data/sentiment/aclImdb_v1.tar.gz"
   ]
  },
  {
   "cell_type": "code",
   "execution_count": 2,
   "metadata": {
    "colab": {
     "base_uri": "https://localhost:8080/"
    },
    "id": "6kCTV_hjOKmE",
    "outputId": "4c0a6e4e-c3da-4c13-d27a-058d7d1c238a"
   },
   "outputs": [
    {
     "name": "stdout",
     "output_type": "stream",
     "text": [
      "Downloading data from http://ai.stanford.edu/~amaas/data/sentiment/aclImdb_v1.tar.gz\n",
      "84131840/84125825 [==============================] - 9s 0us/step\n"
     ]
    }
   ],
   "source": [
    "dataset = tf.keras.utils.get_file(fname=\"aclImdb_v1.tar.gz\",\n",
    "                                  origin=\"http://ai.stanford.edu/~amaas/data/sentiment/aclImdb_v1.tar.gz\",\n",
    "                                  extract=True) # To download and extract the files\n",
    "IMDB_DATADIR = os.path.join(os.path.dirname(dataset), 'aclImdb') # to indicate the directory"
   ]
  },
  {
   "cell_type": "code",
   "execution_count": 3,
   "metadata": {
    "colab": {
     "base_uri": "https://localhost:8080/"
    },
    "id": "avEK_WWyVlgy",
    "outputId": "056c844a-2e91-476d-ed77-1200c9dc7f89"
   },
   "outputs": [
    {
     "name": "stdout",
     "output_type": "stream",
     "text": [
      "/root/.keras/datasets\n",
      "/root/.keras/datasets/aclImdb\n"
     ]
    }
   ],
   "source": [
    "print(os.path.dirname(dataset))\n",
    "print(IMDB_DATADIR)"
   ]
  },
  {
   "cell_type": "markdown",
   "metadata": {
    "id": "r8xLaiKHhW-z"
   },
   "source": [
    "## Creating the training and test variables\n",
    "\n",
    "When we create the training and test variables with the object text, we don’t need to take care about the text cleaning (tokenization, stemmer and others actions), this is made by this object with the aid of the preproc object (this is a transformer object). The argument maxlen is the number of words which will be considered to train and test the model. The parameter preprocess_mode choose which method we want to use, for example BERT or NBSVM. Classes indicates the classes in the problem. Here, we consider the BERT method."
   ]
  },
  {
   "cell_type": "code",
   "execution_count": 4,
   "metadata": {
    "colab": {
     "base_uri": "https://localhost:8080/",
     "height": 289
    },
    "id": "_v1UUUg1hY4a",
    "outputId": "d4a78418-794e-4617-cf6a-86a3a6a038f1"
   },
   "outputs": [
    {
     "name": "stdout",
     "output_type": "stream",
     "text": [
      "detected encoding: utf-8\n",
      "downloading pretrained BERT model (uncased_L-12_H-768_A-12.zip)...\n",
      "[██████████████████████████████████████████████████]\n",
      "extracting pretrained BERT model...\n",
      "done.\n",
      "\n",
      "cleanup downloaded zip...\n",
      "done.\n",
      "\n",
      "preprocessing train...\n",
      "language: en\n"
     ]
    },
    {
     "data": {
      "text/html": [
       "done."
      ],
      "text/plain": [
       "<IPython.core.display.HTML object>"
      ]
     },
     "metadata": {
      "tags": []
     },
     "output_type": "display_data"
    },
    {
     "name": "stdout",
     "output_type": "stream",
     "text": [
      "Is Multi-Label? False\n",
      "preprocessing test...\n",
      "language: en\n"
     ]
    },
    {
     "data": {
      "text/html": [
       "done."
      ],
      "text/plain": [
       "<IPython.core.display.HTML object>"
      ]
     },
     "metadata": {
      "tags": []
     },
     "output_type": "display_data"
    }
   ],
   "source": [
    "(x_train, y_train), (x_test, y_test), preproc = text.texts_from_folder(datadir=IMDB_DATADIR,\n",
    "                                                                       classes=['pos','neg'],\n",
    "                                                                       maxlen=500,\n",
    "                                                                       train_test_names=['train','test'],\n",
    "                                                                       preprocess_mode='bert')"
   ]
  },
  {
   "cell_type": "markdown",
   "metadata": {
    "id": "Bni9P0B0hpu8"
   },
   "source": [
    "# Building the BERT model\n",
    "\n",
    "The BERT model was developped by Google in 2018. This is a strong method for DNLP. To more details, I recomend the read of the [paper](https://arxiv.org/abs/1810.04805)."
   ]
  },
  {
   "cell_type": "markdown",
   "metadata": {
    "id": "rG-6mJ_mjTzh"
   },
   "source": [
    "## Inititialzing the model\n",
    "\n",
    "To initiate the model, we consider the attribute text_classifier, BERT is the method to classifier."
   ]
  },
  {
   "cell_type": "code",
   "execution_count": 5,
   "metadata": {
    "colab": {
     "base_uri": "https://localhost:8080/"
    },
    "id": "ec0gNVP9s--C",
    "outputId": "9f21efa6-4f64-425b-9844-2494135daee0"
   },
   "outputs": [
    {
     "name": "stdout",
     "output_type": "stream",
     "text": [
      "Is Multi-Label? False\n",
      "maxlen is 500\n",
      "done.\n"
     ]
    }
   ],
   "source": [
    "model = text.text_classifier(name='bert',\n",
    "                             train_data=(x_train, y_train),\n",
    "                             preproc=preproc) # object to learn"
   ]
  },
  {
   "cell_type": "markdown",
   "metadata": {
    "id": "Aa8pQ8-bhx0Z"
   },
   "source": [
    "## Training the model\n",
    "\n",
    "To train the model there are some steps to follow. First we create the object learner, after we consider some attributes as lr_find to find the learn rate, lr_plot to verify the evolution of the learn rate by the loss, finally we fit the model with the attribute fit."
   ]
  },
  {
   "cell_type": "code",
   "execution_count": 6,
   "metadata": {
    "id": "voHx9EOPvSb1"
   },
   "outputs": [],
   "source": [
    "learner = ktrain.get_learner(model=model,\n",
    "                             train_data=(x_train, y_train),\n",
    "                             val_data=(x_test, y_test),\n",
    "                             batch_size=6) # Visualizing the learn rate evolution by loss function"
   ]
  },
  {
   "cell_type": "code",
   "execution_count": 7,
   "metadata": {
    "colab": {
     "base_uri": "https://localhost:8080/"
    },
    "id": "XZgxaHgCjTzi",
    "outputId": "485ff4c1-0ccc-467e-df8c-e5e6bbdeeefa"
   },
   "outputs": [
    {
     "name": "stdout",
     "output_type": "stream",
     "text": [
      "simulating training for different learning rates... this may take a few moments...\n",
      "Epoch 1/1024\n",
      "4167/4167 [==============================] - 2503s 595ms/step - loss: 2.3709 - accuracy: 0.5741\n",
      "\n",
      "\n",
      "done.\n",
      "Please invoke the Learner.lr_plot() method to visually inspect the loss plot to help identify the maximal learning rate associated with falling loss.\n"
     ]
    }
   ],
   "source": [
    "learner.lr_find() # Finding the best learning rate"
   ]
  },
  {
   "cell_type": "code",
   "execution_count": 8,
   "metadata": {
    "colab": {
     "base_uri": "https://localhost:8080/",
     "height": 283
    },
    "id": "CFry3FWyjTzj",
    "outputId": "d5d07c67-dcd5-4d66-cd77-9b3c15310bfe"
   },
   "outputs": [
    {
     "data": {
      "image/png": "[encoded data removed]",
      "text/plain": [
       "<Figure size 432x288 with 1 Axes>"
      ]
     },
     "metadata": {
      "needs_background": "light",
      "tags": []
     },
     "output_type": "display_data"
    }
   ],
   "source": [
    "learner.lr_plot() # Visualizing the learn rate evolution by loss function"
   ]
  },
  {
   "cell_type": "markdown",
   "metadata": {
    "id": "bmY3BGL_TBWF"
   },
   "source": [
    "As seen, the learn rate associated to the minimal is around $1e-4$, but Google recomends to use a learn rate equal to $2e-5$."
   ]
  },
  {
   "cell_type": "code",
   "execution_count": 9,
   "metadata": {
    "colab": {
     "base_uri": "https://localhost:8080/"
    },
    "id": "gVfEfoRuxWSe",
    "outputId": "d1c6e026-c0ec-4ee4-bceb-81b4e4b00e65"
   },
   "outputs": [
    {
     "name": "stdout",
     "output_type": "stream",
     "text": [
      "\n",
      "\n",
      "begin training using onecycle policy with max lr of 2e-05...\n",
      "4167/4167 [==============================] - 9470s 2s/step - loss: 0.2498 - accuracy: 0.8964 - val_loss: 0.1621 - val_accuracy: 0.9384\n"
     ]
    },
    {
     "data": {
      "text/plain": [
       "<tensorflow.python.keras.callbacks.History at 0x7fcc7a721da0>"
      ]
     },
     "execution_count": 9,
     "metadata": {
      "tags": []
     },
     "output_type": "execute_result"
    }
   ],
   "source": [
    "learner.fit_onecycle(lr=2e-5,\n",
    "                     epochs=1) # Fitting the model"
   ]
  },
  {
   "cell_type": "markdown",
   "metadata": {
    "id": "fwB8bEzxjTzj"
   },
   "source": [
    "The final validation accuracy is $93.84\\%$."
   ]
  },
  {
   "cell_type": "markdown",
   "metadata": {
    "id": "9Xyd7VaWjTzk"
   },
   "source": [
    "## Making predictions\n",
    "\n",
    "To make predictions we must to create the object predictor with ktrain.get_predictor. The input parameters are learn.model and preproc, the last parameters is very important, it makes the text preprocessing."
   ]
  },
  {
   "cell_type": "code",
   "execution_count": 10,
   "metadata": {
    "id": "NvooQNf5jTzk"
   },
   "outputs": [],
   "source": [
    "predictor = ktrain.get_predictor(learner.model, preproc)  # creating the object"
   ]
  },
  {
   "cell_type": "code",
   "execution_count": 11,
   "metadata": {
    "id": "7jQtjbIGjTzk"
   },
   "outputs": [],
   "source": [
    "data = [ 'This movie was horrible! The plot was boring. Acting was okay, though.',\n",
    "         'The film really sucked. I want my money back.',\n",
    "        'The plot had too many holes.',\n",
    "        'What a beautiful romantic comedy. 10/10 would see again!',\n",
    "         ] # List with some test reviews."
   ]
  },
  {
   "cell_type": "code",
   "execution_count": 12,
   "metadata": {
    "colab": {
     "base_uri": "https://localhost:8080/"
    },
    "id": "IRjPTaSCjTzl",
    "outputId": "6cfb1278-0c41-40a2-f0f4-ea2ede59a8f8"
   },
   "outputs": [
    {
     "data": {
      "text/plain": [
       "['neg', 'pos']"
      ]
     },
     "execution_count": 12,
     "metadata": {
      "tags": []
     },
     "output_type": "execute_result"
    }
   ],
   "source": [
    "predictor.get_classes() # To verify the classes"
   ]
  },
  {
   "cell_type": "code",
   "execution_count": 13,
   "metadata": {
    "colab": {
     "base_uri": "https://localhost:8080/"
    },
    "id": "HVW6OJ6ijTzl",
    "outputId": "f330c206-752c-4849-ef98-1d2e5a6359ce"
   },
   "outputs": [
    {
     "data": {
      "text/plain": [
       "['neg', 'neg', 'neg', 'pos']"
      ]
     },
     "execution_count": 13,
     "metadata": {
      "tags": []
     },
     "output_type": "execute_result"
    }
   ],
   "source": [
    "predictor.predict(data) # Predicting"
   ]
  },
  {
   "cell_type": "markdown",
   "metadata": {
    "id": "PXGwNbPojTzl"
   },
   "source": [
    "The predictions can be considered to be correct.\n",
    "\n",
    "If you want to see the prabability, the parameter return_proba=True allow us to obtain it."
   ]
  },
  {
   "cell_type": "code",
   "execution_count": 14,
   "metadata": {
    "colab": {
     "base_uri": "https://localhost:8080/"
    },
    "id": "-ayuLwtUjTzl",
    "outputId": "8e8fc71e-35db-482d-c9cf-dd09e042e209"
   },
   "outputs": [
    {
     "data": {
      "text/plain": [
       "array([[0.99759763, 0.00240235],\n",
       "       [0.9886126 , 0.01138739],\n",
       "       [0.98323375, 0.01676632],\n",
       "       [0.00284578, 0.99715424]], dtype=float32)"
      ]
     },
     "execution_count": 14,
     "metadata": {
      "tags": []
     },
     "output_type": "execute_result"
    }
   ],
   "source": [
    "predictor.predict(data, return_proba=True) # Predicting with the probability"
   ]
  },
  {
   "cell_type": "markdown",
   "metadata": {
    "id": "lbjz6aj0jTzm"
   },
   "source": [
    "## Saving the model\n",
    "\n",
    "The model can be saved to the disk. In case of necessity, the model can be reloaded. This is very practical to make applications."
   ]
  },
  {
   "cell_type": "code",
   "execution_count": 15,
   "metadata": {
    "id": "0ASbtVCfjTzm"
   },
   "outputs": [],
   "source": [
    "predictor.save('/tmp/my_moviereview_predictor_BERT') # saving the model"
   ]
  },
  {
   "cell_type": "code",
   "execution_count": 16,
   "metadata": {
    "id": "6RFZS03ljTzm"
   },
   "outputs": [],
   "source": [
    "predictor_save = ktrain.load_predictor('/tmp/my_moviereview_predictor_BERT') # creating the object to load the saved model"
   ]
  },
  {
   "cell_type": "code",
   "execution_count": 17,
   "metadata": {
    "colab": {
     "base_uri": "https://localhost:8080/"
    },
    "id": "jueTW8jHjTzn",
    "outputId": "00d701a2-50f3-4350-e7a9-cb33c19cb078"
   },
   "outputs": [
    {
     "data": {
      "text/plain": [
       "['pos']"
      ]
     },
     "execution_count": 17,
     "metadata": {
      "tags": []
     },
     "output_type": "execute_result"
    }
   ],
   "source": [
    "predictor_save.predict(['Groundhog Day is my favorite movie of all time!']) # Making a prediction with the loaded model."
   ]
  },
  {
   "cell_type": "markdown",
   "metadata": {
    "id": "xbxhheCVjTzn"
   },
   "source": [
    "# Conclusion\n",
    "\n",
    "We presented a simple example to demonstrate how to apply some functions of ktrain library to make text classification using BERT method. The results from the sentiment analysis are satisfactory, with a validation accuracy of $93.84\\%$ using just $1$ epochs. The library offers facility to build the models with some lines and good score results. Keep in mind, is always recommended to know the libraries of base as TensorFlow and Keras, because this library is built with they."
   ]
  }
 ],
 "metadata": {
  "accelerator": "GPU",
  "colab": {
   "collapsed_sections": [],
   "name": "NLP_with_Bert_Sentiment_Analysis.ipynb",
   "provenance": []
  },
  "kernelspec": {
   "display_name": "Python 3",
   "language": "python",
   "name": "python3"
  },
  "language_info": {
   "codemirror_mode": {
    "name": "ipython",
    "version": 3
   },
   "file_extension": ".py",
   "mimetype": "text/x-python",
   "name": "python",
   "nbconvert_exporter": "python",
   "pygments_lexer": "ipython3",
   "version": "3.6.9"
  }
 },
 "nbformat": 4,
 "nbformat_minor": 1
}
